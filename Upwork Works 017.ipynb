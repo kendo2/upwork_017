{
 "cells": [
  {
   "cell_type": "code",
   "execution_count": 21,
   "id": "f760703d",
   "metadata": {},
   "outputs": [
    {
     "data": {
      "application/vnd.plotly.v1+json": {
       "config": {
        "plotlyServerURL": "https://plot.ly"
       },
       "data": [
        {
         "customdata": [
          [
           "San Francisco",
           2023,
           213,
           144,
           61,
           8,
           0
          ],
          [
           "Los Angeles",
           2023,
           212,
           74,
           118,
           18,
           2
          ],
          [
           "San Jose",
           2023,
           242,
           191,
           49,
           2,
           0
          ],
          [
           "San Diego",
           2023,
           271,
           166,
           90,
           15,
           0
          ]
         ],
         "geo": "geo",
         "hovertemplate": "<b>%{hovertext}</b><br><br>State=CA<br>Good Days=%{customdata[3]}<br>Latitude=%{lat}<br>Longitude=%{lon}<br>CBSA Name=%{customdata[0]}<br>Year=%{customdata[1]}<br>Days with AQI=%{customdata[2]}<br>Moderate Days=%{customdata[4]}<br>Unhealthy for Sensitive Groups Days=%{customdata[5]}<br>Unhealthy Days=%{customdata[6]}<extra></extra>",
         "hovertext": [
          "San Francisco",
          "Los Angeles",
          "San Jose",
          "San Diego"
         ],
         "lat": [
          37.87687,
          34.104175,
          36.85551,
          32.631242
         ],
         "legendgroup": "CA",
         "lon": [
          -122.266913,
          -118.409246,
          -121.39299,
          -117.059088
         ],
         "marker": {
          "color": "#636efa",
          "size": [
           144,
           74,
           191,
           166
          ],
          "sizemode": "area",
          "sizeref": 0.56,
          "symbol": "circle"
         },
         "mode": "markers",
         "name": "CA",
         "showlegend": true,
         "type": "scattergeo"
        },
        {
         "customdata": [
          [
           "Hartford",
           2023,
           182,
           138,
           37,
           3,
           4
          ]
         ],
         "geo": "geo",
         "hovertemplate": "<b>%{hovertext}</b><br><br>State=CT<br>Good Days=%{customdata[3]}<br>Latitude=%{lat}<br>Longitude=%{lon}<br>CBSA Name=%{customdata[0]}<br>Year=%{customdata[1]}<br>Days with AQI=%{customdata[2]}<br>Moderate Days=%{customdata[4]}<br>Unhealthy for Sensitive Groups Days=%{customdata[5]}<br>Unhealthy Days=%{customdata[6]}<extra></extra>",
         "hovertext": [
          "Hartford"
         ],
         "lat": [
          41.586765
         ],
         "legendgroup": "CT",
         "lon": [
          -72.799821
         ],
         "marker": {
          "color": "#EF553B",
          "size": [
           138
          ],
          "sizemode": "area",
          "sizeref": 0.56,
          "symbol": "circle"
         },
         "mode": "markers",
         "name": "CT",
         "showlegend": true,
         "type": "scattergeo"
        },
        {
         "customdata": [
          [
           "Philadelphia",
           2023,
           273,
           140,
           122,
           5,
           4
          ]
         ],
         "geo": "geo",
         "hovertemplate": "<b>%{hovertext}</b><br><br>State=PA-NJ-DE-MD<br>Good Days=%{customdata[3]}<br>Latitude=%{lat}<br>Longitude=%{lon}<br>CBSA Name=%{customdata[0]}<br>Year=%{customdata[1]}<br>Days with AQI=%{customdata[2]}<br>Moderate Days=%{customdata[4]}<br>Unhealthy for Sensitive Groups Days=%{customdata[5]}<br>Unhealthy Days=%{customdata[6]}<extra></extra>",
         "hovertext": [
          "Philadelphia"
         ],
         "lat": [
          39.801127
         ],
         "legendgroup": "PA-NJ-DE-MD",
         "lon": [
          -75.454065
         ],
         "marker": {
          "color": "#00cc96",
          "size": [
           140
          ],
          "sizemode": "area",
          "sizeref": 0.56,
          "symbol": "circle"
         },
         "mode": "markers",
         "name": "PA-NJ-DE-MD",
         "showlegend": true,
         "type": "scattergeo"
        },
        {
         "customdata": [
          [
           "Washington",
           2023,
           274,
           163,
           93,
           14,
           4
          ]
         ],
         "geo": "geo",
         "hovertemplate": "<b>%{hovertext}</b><br><br>State=DC-VA-MD-WV<br>Good Days=%{customdata[3]}<br>Latitude=%{lat}<br>Longitude=%{lon}<br>CBSA Name=%{customdata[0]}<br>Year=%{customdata[1]}<br>Days with AQI=%{customdata[2]}<br>Moderate Days=%{customdata[4]}<br>Unhealthy for Sensitive Groups Days=%{customdata[5]}<br>Unhealthy Days=%{customdata[6]}<extra></extra>",
         "hovertext": [
          "Washington"
         ],
         "lat": [
          38.888089
         ],
         "legendgroup": "DC-VA-MD-WV",
         "lon": [
          -77.027176
         ],
         "marker": {
          "color": "#ab63fa",
          "size": [
           163
          ],
          "sizemode": "area",
          "sizeref": 0.56,
          "symbol": "circle"
         },
         "mode": "markers",
         "name": "DC-VA-MD-WV",
         "showlegend": true,
         "type": "scattergeo"
        },
        {
         "customdata": [
          [
           "Atlanta",
           2023,
           243,
           111,
           116,
           14,
           2
          ]
         ],
         "geo": "geo",
         "hovertemplate": "<b>%{hovertext}</b><br><br>State=GA<br>Good Days=%{customdata[3]}<br>Latitude=%{lat}<br>Longitude=%{lon}<br>CBSA Name=%{customdata[0]}<br>Year=%{customdata[1]}<br>Days with AQI=%{customdata[2]}<br>Moderate Days=%{customdata[4]}<br>Unhealthy for Sensitive Groups Days=%{customdata[5]}<br>Unhealthy Days=%{customdata[6]}<extra></extra>",
         "hovertext": [
          "Atlanta"
         ],
         "lat": [
          34.176764
         ],
         "legendgroup": "GA",
         "lon": [
          -84.786882
         ],
         "marker": {
          "color": "#FFA15A",
          "size": [
           111
          ],
          "sizemode": "area",
          "sizeref": 0.56,
          "symbol": "circle"
         },
         "mode": "markers",
         "name": "GA",
         "showlegend": true,
         "type": "scattergeo"
        },
        {
         "customdata": [
          [
           "Baltimore",
           2023,
           273,
           169,
           88,
           12,
           3
          ]
         ],
         "geo": "geo",
         "hovertemplate": "<b>%{hovertext}</b><br><br>State=MD<br>Good Days=%{customdata[3]}<br>Latitude=%{lat}<br>Longitude=%{lon}<br>CBSA Name=%{customdata[0]}<br>Year=%{customdata[1]}<br>Days with AQI=%{customdata[2]}<br>Moderate Days=%{customdata[4]}<br>Unhealthy for Sensitive Groups Days=%{customdata[5]}<br>Unhealthy Days=%{customdata[6]}<extra></extra>",
         "hovertext": [
          "Baltimore"
         ],
         "lat": [
          39.211694
         ],
         "legendgroup": "MD",
         "lon": [
          -76.652995
         ],
         "marker": {
          "color": "#19d3f3",
          "size": [
           169
          ],
          "sizemode": "area",
          "sizeref": 0.56,
          "symbol": "circle"
         },
         "mode": "markers",
         "name": "MD",
         "showlegend": true,
         "type": "scattergeo"
        },
        {
         "customdata": [
          [
           "Boston",
           2023,
           182,
           130,
           47,
           5,
           0
          ]
         ],
         "geo": "geo",
         "hovertemplate": "<b>%{hovertext}</b><br><br>State=MA-NH<br>Good Days=%{customdata[3]}<br>Latitude=%{lat}<br>Longitude=%{lon}<br>CBSA Name=%{customdata[0]}<br>Year=%{customdata[1]}<br>Days with AQI=%{customdata[2]}<br>Moderate Days=%{customdata[4]}<br>Unhealthy for Sensitive Groups Days=%{customdata[5]}<br>Unhealthy Days=%{customdata[6]}<extra></extra>",
         "hovertext": [
          "Boston"
         ],
         "lat": [
          42.564539
         ],
         "legendgroup": "MA-NH",
         "lon": [
          -70.84866
         ],
         "marker": {
          "color": "#FF6692",
          "size": [
           130
          ],
          "sizemode": "area",
          "sizeref": 0.56,
          "symbol": "circle"
         },
         "mode": "markers",
         "name": "MA-NH",
         "showlegend": true,
         "type": "scattergeo"
        },
        {
         "customdata": [
          [
           "New York",
           2023,
           273,
           135,
           119,
           12,
           6
          ]
         ],
         "geo": "geo",
         "hovertemplate": "<b>%{hovertext}</b><br><br>State=NY-NJ-PA<br>Good Days=%{customdata[3]}<br>Latitude=%{lat}<br>Longitude=%{lon}<br>CBSA Name=%{customdata[0]}<br>Year=%{customdata[1]}<br>Days with AQI=%{customdata[2]}<br>Moderate Days=%{customdata[4]}<br>Unhealthy for Sensitive Groups Days=%{customdata[5]}<br>Unhealthy Days=%{customdata[6]}<extra></extra>",
         "hovertext": [
          "New York"
         ],
         "lat": [
          40.808434
         ],
         "legendgroup": "NY-NJ-PA",
         "lon": [
          -73.992361
         ],
         "marker": {
          "color": "#B6E880",
          "size": [
           135
          ],
          "sizemode": "area",
          "sizeref": 0.56,
          "symbol": "circle"
         },
         "mode": "markers",
         "name": "NY-NJ-PA",
         "showlegend": true,
         "type": "scattergeo"
        },
        {
         "customdata": [
          [
           "Charlotte",
           2023,
           274,
           158,
           108,
           8,
           0
          ]
         ],
         "geo": "geo",
         "hovertemplate": "<b>%{hovertext}</b><br><br>State=NC-SC<br>Good Days=%{customdata[3]}<br>Latitude=%{lat}<br>Longitude=%{lon}<br>CBSA Name=%{customdata[0]}<br>Year=%{customdata[1]}<br>Days with AQI=%{customdata[2]}<br>Moderate Days=%{customdata[4]}<br>Unhealthy for Sensitive Groups Days=%{customdata[5]}<br>Unhealthy Days=%{customdata[6]}<extra></extra>",
         "hovertext": [
          "Charlotte"
         ],
         "lat": [
          35.411212
         ],
         "legendgroup": "NC-SC",
         "lon": [
          -80.581188
         ],
         "marker": {
          "color": "#FF97FF",
          "size": [
           158
          ],
          "sizemode": "area",
          "sizeref": 0.56,
          "symbol": "circle"
         },
         "mode": "markers",
         "name": "NC-SC",
         "showlegend": true,
         "type": "scattergeo"
        },
        {
         "customdata": [
          [
           "Raleigh",
           2023,
           244,
           162,
           77,
           5,
           0
          ]
         ],
         "geo": "geo",
         "hovertemplate": "<b>%{hovertext}</b><br><br>State=NC<br>Good Days=%{customdata[3]}<br>Latitude=%{lat}<br>Longitude=%{lon}<br>CBSA Name=%{customdata[0]}<br>Year=%{customdata[1]}<br>Days with AQI=%{customdata[2]}<br>Moderate Days=%{customdata[4]}<br>Unhealthy for Sensitive Groups Days=%{customdata[5]}<br>Unhealthy Days=%{customdata[6]}<extra></extra>",
         "hovertext": [
          "Raleigh"
         ],
         "lat": [
          36.096189
         ],
         "legendgroup": "NC",
         "lon": [
          -78.463719
         ],
         "marker": {
          "color": "#FECB52",
          "size": [
           162
          ],
          "sizemode": "area",
          "sizeref": 0.56,
          "symbol": "circle"
         },
         "mode": "markers",
         "name": "NC",
         "showlegend": true,
         "type": "scattergeo"
        },
        {
         "customdata": [
          [
           "Virginia Beach",
           2023,
           274,
           224,
           47,
           2,
           1
          ]
         ],
         "geo": "geo",
         "hovertemplate": "<b>%{hovertext}</b><br><br>State=VA-NC<br>Good Days=%{customdata[3]}<br>Latitude=%{lat}<br>Longitude=%{lon}<br>CBSA Name=%{customdata[0]}<br>Year=%{customdata[1]}<br>Days with AQI=%{customdata[2]}<br>Moderate Days=%{customdata[4]}<br>Unhealthy for Sensitive Groups Days=%{customdata[5]}<br>Unhealthy Days=%{customdata[6]}<extra></extra>",
         "hovertext": [
          "Virginia Beach"
         ],
         "lat": [
          36.413684
         ],
         "legendgroup": "VA-NC",
         "lon": [
          -76.757734
         ],
         "marker": {
          "color": "#636efa",
          "size": [
           224
          ],
          "sizemode": "area",
          "sizeref": 0.56,
          "symbol": "circle"
         },
         "mode": "markers",
         "name": "VA-NC",
         "showlegend": true,
         "type": "scattergeo"
        },
        {
         "customdata": [
          [
           "Portland",
           2023,
           212,
           175,
           36,
           1,
           0
          ]
         ],
         "geo": "geo",
         "hovertemplate": "<b>%{hovertext}</b><br><br>State=OR-WA<br>Good Days=%{customdata[3]}<br>Latitude=%{lat}<br>Longitude=%{lon}<br>CBSA Name=%{customdata[0]}<br>Year=%{customdata[1]}<br>Days with AQI=%{customdata[2]}<br>Moderate Days=%{customdata[4]}<br>Unhealthy for Sensitive Groups Days=%{customdata[5]}<br>Unhealthy Days=%{customdata[6]}<extra></extra>",
         "hovertext": [
          "Portland"
         ],
         "lat": [
          45.412863
         ],
         "legendgroup": "OR-WA",
         "lon": [
          -122.664522
         ],
         "marker": {
          "color": "#EF553B",
          "size": [
           175
          ],
          "sizemode": "area",
          "sizeref": 0.56,
          "symbol": "circle"
         },
         "mode": "markers",
         "name": "OR-WA",
         "showlegend": true,
         "type": "scattergeo"
        },
        {
         "customdata": [
          [
           "Charleston",
           2023,
           273,
           211,
           60,
           2,
           0
          ]
         ],
         "geo": "geo",
         "hovertemplate": "<b>%{hovertext}</b><br><br>State=SC<br>Good Days=%{customdata[3]}<br>Latitude=%{lat}<br>Longitude=%{lon}<br>CBSA Name=%{customdata[0]}<br>Year=%{customdata[1]}<br>Days with AQI=%{customdata[2]}<br>Moderate Days=%{customdata[4]}<br>Unhealthy for Sensitive Groups Days=%{customdata[5]}<br>Unhealthy Days=%{customdata[6]}<extra></extra>",
         "hovertext": [
          "Charleston"
         ],
         "lat": [
          33.19698
         ],
         "legendgroup": "SC",
         "lon": [
          -79.976767
         ],
         "marker": {
          "color": "#00cc96",
          "size": [
           211
          ],
          "sizemode": "area",
          "sizeref": 0.56,
          "symbol": "circle"
         },
         "mode": "markers",
         "name": "SC",
         "showlegend": true,
         "type": "scattergeo"
        },
        {
         "customdata": [
          [
           "Richmond",
           2023,
           274,
           216,
           53,
           2,
           3
          ]
         ],
         "geo": "geo",
         "hovertemplate": "<b>%{hovertext}</b><br><br>State=VA<br>Good Days=%{customdata[3]}<br>Latitude=%{lat}<br>Longitude=%{lon}<br>CBSA Name=%{customdata[0]}<br>Year=%{customdata[1]}<br>Days with AQI=%{customdata[2]}<br>Moderate Days=%{customdata[4]}<br>Unhealthy for Sensitive Groups Days=%{customdata[5]}<br>Unhealthy Days=%{customdata[6]}<extra></extra>",
         "hovertext": [
          "Richmond"
         ],
         "lat": [
          37.534222
         ],
         "legendgroup": "VA",
         "lon": [
          -77.560809
         ],
         "marker": {
          "color": "#ab63fa",
          "size": [
           216
          ],
          "sizemode": "area",
          "sizeref": 0.56,
          "symbol": "circle"
         },
         "mode": "markers",
         "name": "VA",
         "showlegend": true,
         "type": "scattergeo"
        },
        {
         "customdata": [
          [
           "Seattle",
           2023,
           182,
           148,
           33,
           1,
           0
          ]
         ],
         "geo": "geo",
         "hovertemplate": "<b>%{hovertext}</b><br><br>State=WA<br>Good Days=%{customdata[3]}<br>Latitude=%{lat}<br>Longitude=%{lon}<br>CBSA Name=%{customdata[0]}<br>Year=%{customdata[1]}<br>Days with AQI=%{customdata[2]}<br>Moderate Days=%{customdata[4]}<br>Unhealthy for Sensitive Groups Days=%{customdata[5]}<br>Unhealthy Days=%{customdata[6]}<extra></extra>",
         "hovertext": [
          "Seattle"
         ],
         "lat": [
          47.333139
         ],
         "legendgroup": "WA",
         "lon": [
          -122.228718
         ],
         "marker": {
          "color": "#FFA15A",
          "size": [
           148
          ],
          "sizemode": "area",
          "sizeref": 0.56,
          "symbol": "circle"
         },
         "mode": "markers",
         "name": "WA",
         "showlegend": true,
         "type": "scattergeo"
        }
       ],
       "layout": {
        "geo": {
         "center": {},
         "countrycolor": "Black",
         "countrywidth": 0.5,
         "domain": {
          "x": [
           0,
           1
          ],
          "y": [
           0,
           1
          ]
         },
         "landcolor": "rgb(217, 217, 217)",
         "lataxis": {
          "range": [
           24,
           50
          ]
         },
         "lonaxis": {
          "range": [
           -125,
           -55
          ]
         },
         "projection": {
          "type": "natural earth"
         },
         "showcountries": true,
         "showland": true,
         "visible": false
        },
        "legend": {
         "itemsizing": "constant",
         "title": {
          "text": "State"
         },
         "tracegroupgap": 0
        },
        "template": {
         "data": {
          "bar": [
           {
            "error_x": {
             "color": "#2a3f5f"
            },
            "error_y": {
             "color": "#2a3f5f"
            },
            "marker": {
             "line": {
              "color": "#E5ECF6",
              "width": 0.5
             },
             "pattern": {
              "fillmode": "overlay",
              "size": 10,
              "solidity": 0.2
             }
            },
            "type": "bar"
           }
          ],
          "barpolar": [
           {
            "marker": {
             "line": {
              "color": "#E5ECF6",
              "width": 0.5
             },
             "pattern": {
              "fillmode": "overlay",
              "size": 10,
              "solidity": 0.2
             }
            },
            "type": "barpolar"
           }
          ],
          "carpet": [
           {
            "aaxis": {
             "endlinecolor": "#2a3f5f",
             "gridcolor": "white",
             "linecolor": "white",
             "minorgridcolor": "white",
             "startlinecolor": "#2a3f5f"
            },
            "baxis": {
             "endlinecolor": "#2a3f5f",
             "gridcolor": "white",
             "linecolor": "white",
             "minorgridcolor": "white",
             "startlinecolor": "#2a3f5f"
            },
            "type": "carpet"
           }
          ],
          "choropleth": [
           {
            "colorbar": {
             "outlinewidth": 0,
             "ticks": ""
            },
            "type": "choropleth"
           }
          ],
          "contour": [
           {
            "colorbar": {
             "outlinewidth": 0,
             "ticks": ""
            },
            "colorscale": [
             [
              0,
              "#0d0887"
             ],
             [
              0.1111111111111111,
              "#46039f"
             ],
             [
              0.2222222222222222,
              "#7201a8"
             ],
             [
              0.3333333333333333,
              "#9c179e"
             ],
             [
              0.4444444444444444,
              "#bd3786"
             ],
             [
              0.5555555555555556,
              "#d8576b"
             ],
             [
              0.6666666666666666,
              "#ed7953"
             ],
             [
              0.7777777777777778,
              "#fb9f3a"
             ],
             [
              0.8888888888888888,
              "#fdca26"
             ],
             [
              1,
              "#f0f921"
             ]
            ],
            "type": "contour"
           }
          ],
          "contourcarpet": [
           {
            "colorbar": {
             "outlinewidth": 0,
             "ticks": ""
            },
            "type": "contourcarpet"
           }
          ],
          "heatmap": [
           {
            "colorbar": {
             "outlinewidth": 0,
             "ticks": ""
            },
            "colorscale": [
             [
              0,
              "#0d0887"
             ],
             [
              0.1111111111111111,
              "#46039f"
             ],
             [
              0.2222222222222222,
              "#7201a8"
             ],
             [
              0.3333333333333333,
              "#9c179e"
             ],
             [
              0.4444444444444444,
              "#bd3786"
             ],
             [
              0.5555555555555556,
              "#d8576b"
             ],
             [
              0.6666666666666666,
              "#ed7953"
             ],
             [
              0.7777777777777778,
              "#fb9f3a"
             ],
             [
              0.8888888888888888,
              "#fdca26"
             ],
             [
              1,
              "#f0f921"
             ]
            ],
            "type": "heatmap"
           }
          ],
          "heatmapgl": [
           {
            "colorbar": {
             "outlinewidth": 0,
             "ticks": ""
            },
            "colorscale": [
             [
              0,
              "#0d0887"
             ],
             [
              0.1111111111111111,
              "#46039f"
             ],
             [
              0.2222222222222222,
              "#7201a8"
             ],
             [
              0.3333333333333333,
              "#9c179e"
             ],
             [
              0.4444444444444444,
              "#bd3786"
             ],
             [
              0.5555555555555556,
              "#d8576b"
             ],
             [
              0.6666666666666666,
              "#ed7953"
             ],
             [
              0.7777777777777778,
              "#fb9f3a"
             ],
             [
              0.8888888888888888,
              "#fdca26"
             ],
             [
              1,
              "#f0f921"
             ]
            ],
            "type": "heatmapgl"
           }
          ],
          "histogram": [
           {
            "marker": {
             "pattern": {
              "fillmode": "overlay",
              "size": 10,
              "solidity": 0.2
             }
            },
            "type": "histogram"
           }
          ],
          "histogram2d": [
           {
            "colorbar": {
             "outlinewidth": 0,
             "ticks": ""
            },
            "colorscale": [
             [
              0,
              "#0d0887"
             ],
             [
              0.1111111111111111,
              "#46039f"
             ],
             [
              0.2222222222222222,
              "#7201a8"
             ],
             [
              0.3333333333333333,
              "#9c179e"
             ],
             [
              0.4444444444444444,
              "#bd3786"
             ],
             [
              0.5555555555555556,
              "#d8576b"
             ],
             [
              0.6666666666666666,
              "#ed7953"
             ],
             [
              0.7777777777777778,
              "#fb9f3a"
             ],
             [
              0.8888888888888888,
              "#fdca26"
             ],
             [
              1,
              "#f0f921"
             ]
            ],
            "type": "histogram2d"
           }
          ],
          "histogram2dcontour": [
           {
            "colorbar": {
             "outlinewidth": 0,
             "ticks": ""
            },
            "colorscale": [
             [
              0,
              "#0d0887"
             ],
             [
              0.1111111111111111,
              "#46039f"
             ],
             [
              0.2222222222222222,
              "#7201a8"
             ],
             [
              0.3333333333333333,
              "#9c179e"
             ],
             [
              0.4444444444444444,
              "#bd3786"
             ],
             [
              0.5555555555555556,
              "#d8576b"
             ],
             [
              0.6666666666666666,
              "#ed7953"
             ],
             [
              0.7777777777777778,
              "#fb9f3a"
             ],
             [
              0.8888888888888888,
              "#fdca26"
             ],
             [
              1,
              "#f0f921"
             ]
            ],
            "type": "histogram2dcontour"
           }
          ],
          "mesh3d": [
           {
            "colorbar": {
             "outlinewidth": 0,
             "ticks": ""
            },
            "type": "mesh3d"
           }
          ],
          "parcoords": [
           {
            "line": {
             "colorbar": {
              "outlinewidth": 0,
              "ticks": ""
             }
            },
            "type": "parcoords"
           }
          ],
          "pie": [
           {
            "automargin": true,
            "type": "pie"
           }
          ],
          "scatter": [
           {
            "fillpattern": {
             "fillmode": "overlay",
             "size": 10,
             "solidity": 0.2
            },
            "type": "scatter"
           }
          ],
          "scatter3d": [
           {
            "line": {
             "colorbar": {
              "outlinewidth": 0,
              "ticks": ""
             }
            },
            "marker": {
             "colorbar": {
              "outlinewidth": 0,
              "ticks": ""
             }
            },
            "type": "scatter3d"
           }
          ],
          "scattercarpet": [
           {
            "marker": {
             "colorbar": {
              "outlinewidth": 0,
              "ticks": ""
             }
            },
            "type": "scattercarpet"
           }
          ],
          "scattergeo": [
           {
            "marker": {
             "colorbar": {
              "outlinewidth": 0,
              "ticks": ""
             }
            },
            "type": "scattergeo"
           }
          ],
          "scattergl": [
           {
            "marker": {
             "colorbar": {
              "outlinewidth": 0,
              "ticks": ""
             }
            },
            "type": "scattergl"
           }
          ],
          "scattermapbox": [
           {
            "marker": {
             "colorbar": {
              "outlinewidth": 0,
              "ticks": ""
             }
            },
            "type": "scattermapbox"
           }
          ],
          "scatterpolar": [
           {
            "marker": {
             "colorbar": {
              "outlinewidth": 0,
              "ticks": ""
             }
            },
            "type": "scatterpolar"
           }
          ],
          "scatterpolargl": [
           {
            "marker": {
             "colorbar": {
              "outlinewidth": 0,
              "ticks": ""
             }
            },
            "type": "scatterpolargl"
           }
          ],
          "scatterternary": [
           {
            "marker": {
             "colorbar": {
              "outlinewidth": 0,
              "ticks": ""
             }
            },
            "type": "scatterternary"
           }
          ],
          "surface": [
           {
            "colorbar": {
             "outlinewidth": 0,
             "ticks": ""
            },
            "colorscale": [
             [
              0,
              "#0d0887"
             ],
             [
              0.1111111111111111,
              "#46039f"
             ],
             [
              0.2222222222222222,
              "#7201a8"
             ],
             [
              0.3333333333333333,
              "#9c179e"
             ],
             [
              0.4444444444444444,
              "#bd3786"
             ],
             [
              0.5555555555555556,
              "#d8576b"
             ],
             [
              0.6666666666666666,
              "#ed7953"
             ],
             [
              0.7777777777777778,
              "#fb9f3a"
             ],
             [
              0.8888888888888888,
              "#fdca26"
             ],
             [
              1,
              "#f0f921"
             ]
            ],
            "type": "surface"
           }
          ],
          "table": [
           {
            "cells": {
             "fill": {
              "color": "#EBF0F8"
             },
             "line": {
              "color": "white"
             }
            },
            "header": {
             "fill": {
              "color": "#C8D4E3"
             },
             "line": {
              "color": "white"
             }
            },
            "type": "table"
           }
          ]
         },
         "layout": {
          "annotationdefaults": {
           "arrowcolor": "#2a3f5f",
           "arrowhead": 0,
           "arrowwidth": 1
          },
          "autotypenumbers": "strict",
          "coloraxis": {
           "colorbar": {
            "outlinewidth": 0,
            "ticks": ""
           }
          },
          "colorscale": {
           "diverging": [
            [
             0,
             "#8e0152"
            ],
            [
             0.1,
             "#c51b7d"
            ],
            [
             0.2,
             "#de77ae"
            ],
            [
             0.3,
             "#f1b6da"
            ],
            [
             0.4,
             "#fde0ef"
            ],
            [
             0.5,
             "#f7f7f7"
            ],
            [
             0.6,
             "#e6f5d0"
            ],
            [
             0.7,
             "#b8e186"
            ],
            [
             0.8,
             "#7fbc41"
            ],
            [
             0.9,
             "#4d9221"
            ],
            [
             1,
             "#276419"
            ]
           ],
           "sequential": [
            [
             0,
             "#0d0887"
            ],
            [
             0.1111111111111111,
             "#46039f"
            ],
            [
             0.2222222222222222,
             "#7201a8"
            ],
            [
             0.3333333333333333,
             "#9c179e"
            ],
            [
             0.4444444444444444,
             "#bd3786"
            ],
            [
             0.5555555555555556,
             "#d8576b"
            ],
            [
             0.6666666666666666,
             "#ed7953"
            ],
            [
             0.7777777777777778,
             "#fb9f3a"
            ],
            [
             0.8888888888888888,
             "#fdca26"
            ],
            [
             1,
             "#f0f921"
            ]
           ],
           "sequentialminus": [
            [
             0,
             "#0d0887"
            ],
            [
             0.1111111111111111,
             "#46039f"
            ],
            [
             0.2222222222222222,
             "#7201a8"
            ],
            [
             0.3333333333333333,
             "#9c179e"
            ],
            [
             0.4444444444444444,
             "#bd3786"
            ],
            [
             0.5555555555555556,
             "#d8576b"
            ],
            [
             0.6666666666666666,
             "#ed7953"
            ],
            [
             0.7777777777777778,
             "#fb9f3a"
            ],
            [
             0.8888888888888888,
             "#fdca26"
            ],
            [
             1,
             "#f0f921"
            ]
           ]
          },
          "colorway": [
           "#636efa",
           "#EF553B",
           "#00cc96",
           "#ab63fa",
           "#FFA15A",
           "#19d3f3",
           "#FF6692",
           "#B6E880",
           "#FF97FF",
           "#FECB52"
          ],
          "font": {
           "color": "#2a3f5f"
          },
          "geo": {
           "bgcolor": "white",
           "lakecolor": "white",
           "landcolor": "#E5ECF6",
           "showlakes": true,
           "showland": true,
           "subunitcolor": "white"
          },
          "hoverlabel": {
           "align": "left"
          },
          "hovermode": "closest",
          "mapbox": {
           "style": "light"
          },
          "paper_bgcolor": "white",
          "plot_bgcolor": "#E5ECF6",
          "polar": {
           "angularaxis": {
            "gridcolor": "white",
            "linecolor": "white",
            "ticks": ""
           },
           "bgcolor": "#E5ECF6",
           "radialaxis": {
            "gridcolor": "white",
            "linecolor": "white",
            "ticks": ""
           }
          },
          "scene": {
           "xaxis": {
            "backgroundcolor": "#E5ECF6",
            "gridcolor": "white",
            "gridwidth": 2,
            "linecolor": "white",
            "showbackground": true,
            "ticks": "",
            "zerolinecolor": "white"
           },
           "yaxis": {
            "backgroundcolor": "#E5ECF6",
            "gridcolor": "white",
            "gridwidth": 2,
            "linecolor": "white",
            "showbackground": true,
            "ticks": "",
            "zerolinecolor": "white"
           },
           "zaxis": {
            "backgroundcolor": "#E5ECF6",
            "gridcolor": "white",
            "gridwidth": 2,
            "linecolor": "white",
            "showbackground": true,
            "ticks": "",
            "zerolinecolor": "white"
           }
          },
          "shapedefaults": {
           "line": {
            "color": "#2a3f5f"
           }
          },
          "ternary": {
           "aaxis": {
            "gridcolor": "white",
            "linecolor": "white",
            "ticks": ""
           },
           "baxis": {
            "gridcolor": "white",
            "linecolor": "white",
            "ticks": ""
           },
           "bgcolor": "#E5ECF6",
           "caxis": {
            "gridcolor": "white",
            "linecolor": "white",
            "ticks": ""
           }
          },
          "title": {
           "x": 0.05
          },
          "xaxis": {
           "automargin": true,
           "gridcolor": "white",
           "linecolor": "white",
           "ticks": "",
           "title": {
            "standoff": 15
           },
           "zerolinecolor": "white",
           "zerolinewidth": 2
          },
          "yaxis": {
           "automargin": true,
           "gridcolor": "white",
           "linecolor": "white",
           "ticks": "",
           "title": {
            "standoff": 15
           },
           "zerolinecolor": "white",
           "zerolinewidth": 2
          }
         }
        },
        "title": {
         "text": "Map of Unhealthy Days by City for 2023"
        }
       }
      },
      "text/html": [
       "<div>                            <div id=\"6d80d950-6cda-4431-8cde-839ec78a85f1\" class=\"plotly-graph-div\" style=\"height:525px; width:100%;\"></div>            <script type=\"text/javascript\">                require([\"plotly\"], function(Plotly) {                    window.PLOTLYENV=window.PLOTLYENV || {};                                    if (document.getElementById(\"6d80d950-6cda-4431-8cde-839ec78a85f1\")) {                    Plotly.newPlot(                        \"6d80d950-6cda-4431-8cde-839ec78a85f1\",                        [{\"customdata\":[[\"San Francisco\",2023,213,144,61,8,0],[\"Los Angeles\",2023,212,74,118,18,2],[\"San Jose\",2023,242,191,49,2,0],[\"San Diego\",2023,271,166,90,15,0]],\"geo\":\"geo\",\"hovertemplate\":\"<b>%{hovertext}</b><br><br>State=CA<br>Good Days=%{customdata[3]}<br>Latitude=%{lat}<br>Longitude=%{lon}<br>CBSA Name=%{customdata[0]}<br>Year=%{customdata[1]}<br>Days with AQI=%{customdata[2]}<br>Moderate Days=%{customdata[4]}<br>Unhealthy for Sensitive Groups Days=%{customdata[5]}<br>Unhealthy Days=%{customdata[6]}<extra></extra>\",\"hovertext\":[\"San Francisco\",\"Los Angeles\",\"San Jose\",\"San Diego\"],\"lat\":[37.87687,34.104175,36.85551,32.631242],\"legendgroup\":\"CA\",\"lon\":[-122.266913,-118.409246,-121.39299,-117.059088],\"marker\":{\"color\":\"#636efa\",\"size\":[144,74,191,166],\"sizemode\":\"area\",\"sizeref\":0.56,\"symbol\":\"circle\"},\"mode\":\"markers\",\"name\":\"CA\",\"showlegend\":true,\"type\":\"scattergeo\"},{\"customdata\":[[\"Hartford\",2023,182,138,37,3,4]],\"geo\":\"geo\",\"hovertemplate\":\"<b>%{hovertext}</b><br><br>State=CT<br>Good Days=%{customdata[3]}<br>Latitude=%{lat}<br>Longitude=%{lon}<br>CBSA Name=%{customdata[0]}<br>Year=%{customdata[1]}<br>Days with AQI=%{customdata[2]}<br>Moderate Days=%{customdata[4]}<br>Unhealthy for Sensitive Groups Days=%{customdata[5]}<br>Unhealthy Days=%{customdata[6]}<extra></extra>\",\"hovertext\":[\"Hartford\"],\"lat\":[41.586765],\"legendgroup\":\"CT\",\"lon\":[-72.799821],\"marker\":{\"color\":\"#EF553B\",\"size\":[138],\"sizemode\":\"area\",\"sizeref\":0.56,\"symbol\":\"circle\"},\"mode\":\"markers\",\"name\":\"CT\",\"showlegend\":true,\"type\":\"scattergeo\"},{\"customdata\":[[\"Philadelphia\",2023,273,140,122,5,4]],\"geo\":\"geo\",\"hovertemplate\":\"<b>%{hovertext}</b><br><br>State=PA-NJ-DE-MD<br>Good Days=%{customdata[3]}<br>Latitude=%{lat}<br>Longitude=%{lon}<br>CBSA Name=%{customdata[0]}<br>Year=%{customdata[1]}<br>Days with AQI=%{customdata[2]}<br>Moderate Days=%{customdata[4]}<br>Unhealthy for Sensitive Groups Days=%{customdata[5]}<br>Unhealthy Days=%{customdata[6]}<extra></extra>\",\"hovertext\":[\"Philadelphia\"],\"lat\":[39.801127],\"legendgroup\":\"PA-NJ-DE-MD\",\"lon\":[-75.454065],\"marker\":{\"color\":\"#00cc96\",\"size\":[140],\"sizemode\":\"area\",\"sizeref\":0.56,\"symbol\":\"circle\"},\"mode\":\"markers\",\"name\":\"PA-NJ-DE-MD\",\"showlegend\":true,\"type\":\"scattergeo\"},{\"customdata\":[[\"Washington\",2023,274,163,93,14,4]],\"geo\":\"geo\",\"hovertemplate\":\"<b>%{hovertext}</b><br><br>State=DC-VA-MD-WV<br>Good Days=%{customdata[3]}<br>Latitude=%{lat}<br>Longitude=%{lon}<br>CBSA Name=%{customdata[0]}<br>Year=%{customdata[1]}<br>Days with AQI=%{customdata[2]}<br>Moderate Days=%{customdata[4]}<br>Unhealthy for Sensitive Groups Days=%{customdata[5]}<br>Unhealthy Days=%{customdata[6]}<extra></extra>\",\"hovertext\":[\"Washington\"],\"lat\":[38.888089],\"legendgroup\":\"DC-VA-MD-WV\",\"lon\":[-77.027176],\"marker\":{\"color\":\"#ab63fa\",\"size\":[163],\"sizemode\":\"area\",\"sizeref\":0.56,\"symbol\":\"circle\"},\"mode\":\"markers\",\"name\":\"DC-VA-MD-WV\",\"showlegend\":true,\"type\":\"scattergeo\"},{\"customdata\":[[\"Atlanta\",2023,243,111,116,14,2]],\"geo\":\"geo\",\"hovertemplate\":\"<b>%{hovertext}</b><br><br>State=GA<br>Good Days=%{customdata[3]}<br>Latitude=%{lat}<br>Longitude=%{lon}<br>CBSA Name=%{customdata[0]}<br>Year=%{customdata[1]}<br>Days with AQI=%{customdata[2]}<br>Moderate Days=%{customdata[4]}<br>Unhealthy for Sensitive Groups Days=%{customdata[5]}<br>Unhealthy Days=%{customdata[6]}<extra></extra>\",\"hovertext\":[\"Atlanta\"],\"lat\":[34.176764],\"legendgroup\":\"GA\",\"lon\":[-84.786882],\"marker\":{\"color\":\"#FFA15A\",\"size\":[111],\"sizemode\":\"area\",\"sizeref\":0.56,\"symbol\":\"circle\"},\"mode\":\"markers\",\"name\":\"GA\",\"showlegend\":true,\"type\":\"scattergeo\"},{\"customdata\":[[\"Baltimore\",2023,273,169,88,12,3]],\"geo\":\"geo\",\"hovertemplate\":\"<b>%{hovertext}</b><br><br>State=MD<br>Good Days=%{customdata[3]}<br>Latitude=%{lat}<br>Longitude=%{lon}<br>CBSA Name=%{customdata[0]}<br>Year=%{customdata[1]}<br>Days with AQI=%{customdata[2]}<br>Moderate Days=%{customdata[4]}<br>Unhealthy for Sensitive Groups Days=%{customdata[5]}<br>Unhealthy Days=%{customdata[6]}<extra></extra>\",\"hovertext\":[\"Baltimore\"],\"lat\":[39.211694],\"legendgroup\":\"MD\",\"lon\":[-76.652995],\"marker\":{\"color\":\"#19d3f3\",\"size\":[169],\"sizemode\":\"area\",\"sizeref\":0.56,\"symbol\":\"circle\"},\"mode\":\"markers\",\"name\":\"MD\",\"showlegend\":true,\"type\":\"scattergeo\"},{\"customdata\":[[\"Boston\",2023,182,130,47,5,0]],\"geo\":\"geo\",\"hovertemplate\":\"<b>%{hovertext}</b><br><br>State=MA-NH<br>Good Days=%{customdata[3]}<br>Latitude=%{lat}<br>Longitude=%{lon}<br>CBSA Name=%{customdata[0]}<br>Year=%{customdata[1]}<br>Days with AQI=%{customdata[2]}<br>Moderate Days=%{customdata[4]}<br>Unhealthy for Sensitive Groups Days=%{customdata[5]}<br>Unhealthy Days=%{customdata[6]}<extra></extra>\",\"hovertext\":[\"Boston\"],\"lat\":[42.564539],\"legendgroup\":\"MA-NH\",\"lon\":[-70.84866],\"marker\":{\"color\":\"#FF6692\",\"size\":[130],\"sizemode\":\"area\",\"sizeref\":0.56,\"symbol\":\"circle\"},\"mode\":\"markers\",\"name\":\"MA-NH\",\"showlegend\":true,\"type\":\"scattergeo\"},{\"customdata\":[[\"New York\",2023,273,135,119,12,6]],\"geo\":\"geo\",\"hovertemplate\":\"<b>%{hovertext}</b><br><br>State=NY-NJ-PA<br>Good Days=%{customdata[3]}<br>Latitude=%{lat}<br>Longitude=%{lon}<br>CBSA Name=%{customdata[0]}<br>Year=%{customdata[1]}<br>Days with AQI=%{customdata[2]}<br>Moderate Days=%{customdata[4]}<br>Unhealthy for Sensitive Groups Days=%{customdata[5]}<br>Unhealthy Days=%{customdata[6]}<extra></extra>\",\"hovertext\":[\"New York\"],\"lat\":[40.808434],\"legendgroup\":\"NY-NJ-PA\",\"lon\":[-73.992361],\"marker\":{\"color\":\"#B6E880\",\"size\":[135],\"sizemode\":\"area\",\"sizeref\":0.56,\"symbol\":\"circle\"},\"mode\":\"markers\",\"name\":\"NY-NJ-PA\",\"showlegend\":true,\"type\":\"scattergeo\"},{\"customdata\":[[\"Charlotte\",2023,274,158,108,8,0]],\"geo\":\"geo\",\"hovertemplate\":\"<b>%{hovertext}</b><br><br>State=NC-SC<br>Good Days=%{customdata[3]}<br>Latitude=%{lat}<br>Longitude=%{lon}<br>CBSA Name=%{customdata[0]}<br>Year=%{customdata[1]}<br>Days with AQI=%{customdata[2]}<br>Moderate Days=%{customdata[4]}<br>Unhealthy for Sensitive Groups Days=%{customdata[5]}<br>Unhealthy Days=%{customdata[6]}<extra></extra>\",\"hovertext\":[\"Charlotte\"],\"lat\":[35.411212],\"legendgroup\":\"NC-SC\",\"lon\":[-80.581188],\"marker\":{\"color\":\"#FF97FF\",\"size\":[158],\"sizemode\":\"area\",\"sizeref\":0.56,\"symbol\":\"circle\"},\"mode\":\"markers\",\"name\":\"NC-SC\",\"showlegend\":true,\"type\":\"scattergeo\"},{\"customdata\":[[\"Raleigh\",2023,244,162,77,5,0]],\"geo\":\"geo\",\"hovertemplate\":\"<b>%{hovertext}</b><br><br>State=NC<br>Good Days=%{customdata[3]}<br>Latitude=%{lat}<br>Longitude=%{lon}<br>CBSA Name=%{customdata[0]}<br>Year=%{customdata[1]}<br>Days with AQI=%{customdata[2]}<br>Moderate Days=%{customdata[4]}<br>Unhealthy for Sensitive Groups Days=%{customdata[5]}<br>Unhealthy Days=%{customdata[6]}<extra></extra>\",\"hovertext\":[\"Raleigh\"],\"lat\":[36.096189],\"legendgroup\":\"NC\",\"lon\":[-78.463719],\"marker\":{\"color\":\"#FECB52\",\"size\":[162],\"sizemode\":\"area\",\"sizeref\":0.56,\"symbol\":\"circle\"},\"mode\":\"markers\",\"name\":\"NC\",\"showlegend\":true,\"type\":\"scattergeo\"},{\"customdata\":[[\"Virginia Beach\",2023,274,224,47,2,1]],\"geo\":\"geo\",\"hovertemplate\":\"<b>%{hovertext}</b><br><br>State=VA-NC<br>Good Days=%{customdata[3]}<br>Latitude=%{lat}<br>Longitude=%{lon}<br>CBSA Name=%{customdata[0]}<br>Year=%{customdata[1]}<br>Days with AQI=%{customdata[2]}<br>Moderate Days=%{customdata[4]}<br>Unhealthy for Sensitive Groups Days=%{customdata[5]}<br>Unhealthy Days=%{customdata[6]}<extra></extra>\",\"hovertext\":[\"Virginia Beach\"],\"lat\":[36.413684],\"legendgroup\":\"VA-NC\",\"lon\":[-76.757734],\"marker\":{\"color\":\"#636efa\",\"size\":[224],\"sizemode\":\"area\",\"sizeref\":0.56,\"symbol\":\"circle\"},\"mode\":\"markers\",\"name\":\"VA-NC\",\"showlegend\":true,\"type\":\"scattergeo\"},{\"customdata\":[[\"Portland\",2023,212,175,36,1,0]],\"geo\":\"geo\",\"hovertemplate\":\"<b>%{hovertext}</b><br><br>State=OR-WA<br>Good Days=%{customdata[3]}<br>Latitude=%{lat}<br>Longitude=%{lon}<br>CBSA Name=%{customdata[0]}<br>Year=%{customdata[1]}<br>Days with AQI=%{customdata[2]}<br>Moderate Days=%{customdata[4]}<br>Unhealthy for Sensitive Groups Days=%{customdata[5]}<br>Unhealthy Days=%{customdata[6]}<extra></extra>\",\"hovertext\":[\"Portland\"],\"lat\":[45.412863],\"legendgroup\":\"OR-WA\",\"lon\":[-122.664522],\"marker\":{\"color\":\"#EF553B\",\"size\":[175],\"sizemode\":\"area\",\"sizeref\":0.56,\"symbol\":\"circle\"},\"mode\":\"markers\",\"name\":\"OR-WA\",\"showlegend\":true,\"type\":\"scattergeo\"},{\"customdata\":[[\"Charleston\",2023,273,211,60,2,0]],\"geo\":\"geo\",\"hovertemplate\":\"<b>%{hovertext}</b><br><br>State=SC<br>Good Days=%{customdata[3]}<br>Latitude=%{lat}<br>Longitude=%{lon}<br>CBSA Name=%{customdata[0]}<br>Year=%{customdata[1]}<br>Days with AQI=%{customdata[2]}<br>Moderate Days=%{customdata[4]}<br>Unhealthy for Sensitive Groups Days=%{customdata[5]}<br>Unhealthy Days=%{customdata[6]}<extra></extra>\",\"hovertext\":[\"Charleston\"],\"lat\":[33.19698],\"legendgroup\":\"SC\",\"lon\":[-79.976767],\"marker\":{\"color\":\"#00cc96\",\"size\":[211],\"sizemode\":\"area\",\"sizeref\":0.56,\"symbol\":\"circle\"},\"mode\":\"markers\",\"name\":\"SC\",\"showlegend\":true,\"type\":\"scattergeo\"},{\"customdata\":[[\"Richmond\",2023,274,216,53,2,3]],\"geo\":\"geo\",\"hovertemplate\":\"<b>%{hovertext}</b><br><br>State=VA<br>Good Days=%{customdata[3]}<br>Latitude=%{lat}<br>Longitude=%{lon}<br>CBSA Name=%{customdata[0]}<br>Year=%{customdata[1]}<br>Days with AQI=%{customdata[2]}<br>Moderate Days=%{customdata[4]}<br>Unhealthy for Sensitive Groups Days=%{customdata[5]}<br>Unhealthy Days=%{customdata[6]}<extra></extra>\",\"hovertext\":[\"Richmond\"],\"lat\":[37.534222],\"legendgroup\":\"VA\",\"lon\":[-77.560809],\"marker\":{\"color\":\"#ab63fa\",\"size\":[216],\"sizemode\":\"area\",\"sizeref\":0.56,\"symbol\":\"circle\"},\"mode\":\"markers\",\"name\":\"VA\",\"showlegend\":true,\"type\":\"scattergeo\"},{\"customdata\":[[\"Seattle\",2023,182,148,33,1,0]],\"geo\":\"geo\",\"hovertemplate\":\"<b>%{hovertext}</b><br><br>State=WA<br>Good Days=%{customdata[3]}<br>Latitude=%{lat}<br>Longitude=%{lon}<br>CBSA Name=%{customdata[0]}<br>Year=%{customdata[1]}<br>Days with AQI=%{customdata[2]}<br>Moderate Days=%{customdata[4]}<br>Unhealthy for Sensitive Groups Days=%{customdata[5]}<br>Unhealthy Days=%{customdata[6]}<extra></extra>\",\"hovertext\":[\"Seattle\"],\"lat\":[47.333139],\"legendgroup\":\"WA\",\"lon\":[-122.228718],\"marker\":{\"color\":\"#FFA15A\",\"size\":[148],\"sizemode\":\"area\",\"sizeref\":0.56,\"symbol\":\"circle\"},\"mode\":\"markers\",\"name\":\"WA\",\"showlegend\":true,\"type\":\"scattergeo\"}],                        {\"template\":{\"data\":{\"histogram2dcontour\":[{\"type\":\"histogram2dcontour\",\"colorbar\":{\"outlinewidth\":0,\"ticks\":\"\"},\"colorscale\":[[0.0,\"#0d0887\"],[0.1111111111111111,\"#46039f\"],[0.2222222222222222,\"#7201a8\"],[0.3333333333333333,\"#9c179e\"],[0.4444444444444444,\"#bd3786\"],[0.5555555555555556,\"#d8576b\"],[0.6666666666666666,\"#ed7953\"],[0.7777777777777778,\"#fb9f3a\"],[0.8888888888888888,\"#fdca26\"],[1.0,\"#f0f921\"]]}],\"choropleth\":[{\"type\":\"choropleth\",\"colorbar\":{\"outlinewidth\":0,\"ticks\":\"\"}}],\"histogram2d\":[{\"type\":\"histogram2d\",\"colorbar\":{\"outlinewidth\":0,\"ticks\":\"\"},\"colorscale\":[[0.0,\"#0d0887\"],[0.1111111111111111,\"#46039f\"],[0.2222222222222222,\"#7201a8\"],[0.3333333333333333,\"#9c179e\"],[0.4444444444444444,\"#bd3786\"],[0.5555555555555556,\"#d8576b\"],[0.6666666666666666,\"#ed7953\"],[0.7777777777777778,\"#fb9f3a\"],[0.8888888888888888,\"#fdca26\"],[1.0,\"#f0f921\"]]}],\"heatmap\":[{\"type\":\"heatmap\",\"colorbar\":{\"outlinewidth\":0,\"ticks\":\"\"},\"colorscale\":[[0.0,\"#0d0887\"],[0.1111111111111111,\"#46039f\"],[0.2222222222222222,\"#7201a8\"],[0.3333333333333333,\"#9c179e\"],[0.4444444444444444,\"#bd3786\"],[0.5555555555555556,\"#d8576b\"],[0.6666666666666666,\"#ed7953\"],[0.7777777777777778,\"#fb9f3a\"],[0.8888888888888888,\"#fdca26\"],[1.0,\"#f0f921\"]]}],\"heatmapgl\":[{\"type\":\"heatmapgl\",\"colorbar\":{\"outlinewidth\":0,\"ticks\":\"\"},\"colorscale\":[[0.0,\"#0d0887\"],[0.1111111111111111,\"#46039f\"],[0.2222222222222222,\"#7201a8\"],[0.3333333333333333,\"#9c179e\"],[0.4444444444444444,\"#bd3786\"],[0.5555555555555556,\"#d8576b\"],[0.6666666666666666,\"#ed7953\"],[0.7777777777777778,\"#fb9f3a\"],[0.8888888888888888,\"#fdca26\"],[1.0,\"#f0f921\"]]}],\"contourcarpet\":[{\"type\":\"contourcarpet\",\"colorbar\":{\"outlinewidth\":0,\"ticks\":\"\"}}],\"contour\":[{\"type\":\"contour\",\"colorbar\":{\"outlinewidth\":0,\"ticks\":\"\"},\"colorscale\":[[0.0,\"#0d0887\"],[0.1111111111111111,\"#46039f\"],[0.2222222222222222,\"#7201a8\"],[0.3333333333333333,\"#9c179e\"],[0.4444444444444444,\"#bd3786\"],[0.5555555555555556,\"#d8576b\"],[0.6666666666666666,\"#ed7953\"],[0.7777777777777778,\"#fb9f3a\"],[0.8888888888888888,\"#fdca26\"],[1.0,\"#f0f921\"]]}],\"surface\":[{\"type\":\"surface\",\"colorbar\":{\"outlinewidth\":0,\"ticks\":\"\"},\"colorscale\":[[0.0,\"#0d0887\"],[0.1111111111111111,\"#46039f\"],[0.2222222222222222,\"#7201a8\"],[0.3333333333333333,\"#9c179e\"],[0.4444444444444444,\"#bd3786\"],[0.5555555555555556,\"#d8576b\"],[0.6666666666666666,\"#ed7953\"],[0.7777777777777778,\"#fb9f3a\"],[0.8888888888888888,\"#fdca26\"],[1.0,\"#f0f921\"]]}],\"mesh3d\":[{\"type\":\"mesh3d\",\"colorbar\":{\"outlinewidth\":0,\"ticks\":\"\"}}],\"scatter\":[{\"fillpattern\":{\"fillmode\":\"overlay\",\"size\":10,\"solidity\":0.2},\"type\":\"scatter\"}],\"parcoords\":[{\"type\":\"parcoords\",\"line\":{\"colorbar\":{\"outlinewidth\":0,\"ticks\":\"\"}}}],\"scatterpolargl\":[{\"type\":\"scatterpolargl\",\"marker\":{\"colorbar\":{\"outlinewidth\":0,\"ticks\":\"\"}}}],\"bar\":[{\"error_x\":{\"color\":\"#2a3f5f\"},\"error_y\":{\"color\":\"#2a3f5f\"},\"marker\":{\"line\":{\"color\":\"#E5ECF6\",\"width\":0.5},\"pattern\":{\"fillmode\":\"overlay\",\"size\":10,\"solidity\":0.2}},\"type\":\"bar\"}],\"scattergeo\":[{\"type\":\"scattergeo\",\"marker\":{\"colorbar\":{\"outlinewidth\":0,\"ticks\":\"\"}}}],\"scatterpolar\":[{\"type\":\"scatterpolar\",\"marker\":{\"colorbar\":{\"outlinewidth\":0,\"ticks\":\"\"}}}],\"histogram\":[{\"marker\":{\"pattern\":{\"fillmode\":\"overlay\",\"size\":10,\"solidity\":0.2}},\"type\":\"histogram\"}],\"scattergl\":[{\"type\":\"scattergl\",\"marker\":{\"colorbar\":{\"outlinewidth\":0,\"ticks\":\"\"}}}],\"scatter3d\":[{\"type\":\"scatter3d\",\"line\":{\"colorbar\":{\"outlinewidth\":0,\"ticks\":\"\"}},\"marker\":{\"colorbar\":{\"outlinewidth\":0,\"ticks\":\"\"}}}],\"scattermapbox\":[{\"type\":\"scattermapbox\",\"marker\":{\"colorbar\":{\"outlinewidth\":0,\"ticks\":\"\"}}}],\"scatterternary\":[{\"type\":\"scatterternary\",\"marker\":{\"colorbar\":{\"outlinewidth\":0,\"ticks\":\"\"}}}],\"scattercarpet\":[{\"type\":\"scattercarpet\",\"marker\":{\"colorbar\":{\"outlinewidth\":0,\"ticks\":\"\"}}}],\"carpet\":[{\"aaxis\":{\"endlinecolor\":\"#2a3f5f\",\"gridcolor\":\"white\",\"linecolor\":\"white\",\"minorgridcolor\":\"white\",\"startlinecolor\":\"#2a3f5f\"},\"baxis\":{\"endlinecolor\":\"#2a3f5f\",\"gridcolor\":\"white\",\"linecolor\":\"white\",\"minorgridcolor\":\"white\",\"startlinecolor\":\"#2a3f5f\"},\"type\":\"carpet\"}],\"table\":[{\"cells\":{\"fill\":{\"color\":\"#EBF0F8\"},\"line\":{\"color\":\"white\"}},\"header\":{\"fill\":{\"color\":\"#C8D4E3\"},\"line\":{\"color\":\"white\"}},\"type\":\"table\"}],\"barpolar\":[{\"marker\":{\"line\":{\"color\":\"#E5ECF6\",\"width\":0.5},\"pattern\":{\"fillmode\":\"overlay\",\"size\":10,\"solidity\":0.2}},\"type\":\"barpolar\"}],\"pie\":[{\"automargin\":true,\"type\":\"pie\"}]},\"layout\":{\"autotypenumbers\":\"strict\",\"colorway\":[\"#636efa\",\"#EF553B\",\"#00cc96\",\"#ab63fa\",\"#FFA15A\",\"#19d3f3\",\"#FF6692\",\"#B6E880\",\"#FF97FF\",\"#FECB52\"],\"font\":{\"color\":\"#2a3f5f\"},\"hovermode\":\"closest\",\"hoverlabel\":{\"align\":\"left\"},\"paper_bgcolor\":\"white\",\"plot_bgcolor\":\"#E5ECF6\",\"polar\":{\"bgcolor\":\"#E5ECF6\",\"angularaxis\":{\"gridcolor\":\"white\",\"linecolor\":\"white\",\"ticks\":\"\"},\"radialaxis\":{\"gridcolor\":\"white\",\"linecolor\":\"white\",\"ticks\":\"\"}},\"ternary\":{\"bgcolor\":\"#E5ECF6\",\"aaxis\":{\"gridcolor\":\"white\",\"linecolor\":\"white\",\"ticks\":\"\"},\"baxis\":{\"gridcolor\":\"white\",\"linecolor\":\"white\",\"ticks\":\"\"},\"caxis\":{\"gridcolor\":\"white\",\"linecolor\":\"white\",\"ticks\":\"\"}},\"coloraxis\":{\"colorbar\":{\"outlinewidth\":0,\"ticks\":\"\"}},\"colorscale\":{\"sequential\":[[0.0,\"#0d0887\"],[0.1111111111111111,\"#46039f\"],[0.2222222222222222,\"#7201a8\"],[0.3333333333333333,\"#9c179e\"],[0.4444444444444444,\"#bd3786\"],[0.5555555555555556,\"#d8576b\"],[0.6666666666666666,\"#ed7953\"],[0.7777777777777778,\"#fb9f3a\"],[0.8888888888888888,\"#fdca26\"],[1.0,\"#f0f921\"]],\"sequentialminus\":[[0.0,\"#0d0887\"],[0.1111111111111111,\"#46039f\"],[0.2222222222222222,\"#7201a8\"],[0.3333333333333333,\"#9c179e\"],[0.4444444444444444,\"#bd3786\"],[0.5555555555555556,\"#d8576b\"],[0.6666666666666666,\"#ed7953\"],[0.7777777777777778,\"#fb9f3a\"],[0.8888888888888888,\"#fdca26\"],[1.0,\"#f0f921\"]],\"diverging\":[[0,\"#8e0152\"],[0.1,\"#c51b7d\"],[0.2,\"#de77ae\"],[0.3,\"#f1b6da\"],[0.4,\"#fde0ef\"],[0.5,\"#f7f7f7\"],[0.6,\"#e6f5d0\"],[0.7,\"#b8e186\"],[0.8,\"#7fbc41\"],[0.9,\"#4d9221\"],[1,\"#276419\"]]},\"xaxis\":{\"gridcolor\":\"white\",\"linecolor\":\"white\",\"ticks\":\"\",\"title\":{\"standoff\":15},\"zerolinecolor\":\"white\",\"automargin\":true,\"zerolinewidth\":2},\"yaxis\":{\"gridcolor\":\"white\",\"linecolor\":\"white\",\"ticks\":\"\",\"title\":{\"standoff\":15},\"zerolinecolor\":\"white\",\"automargin\":true,\"zerolinewidth\":2},\"scene\":{\"xaxis\":{\"backgroundcolor\":\"#E5ECF6\",\"gridcolor\":\"white\",\"linecolor\":\"white\",\"showbackground\":true,\"ticks\":\"\",\"zerolinecolor\":\"white\",\"gridwidth\":2},\"yaxis\":{\"backgroundcolor\":\"#E5ECF6\",\"gridcolor\":\"white\",\"linecolor\":\"white\",\"showbackground\":true,\"ticks\":\"\",\"zerolinecolor\":\"white\",\"gridwidth\":2},\"zaxis\":{\"backgroundcolor\":\"#E5ECF6\",\"gridcolor\":\"white\",\"linecolor\":\"white\",\"showbackground\":true,\"ticks\":\"\",\"zerolinecolor\":\"white\",\"gridwidth\":2}},\"shapedefaults\":{\"line\":{\"color\":\"#2a3f5f\"}},\"annotationdefaults\":{\"arrowcolor\":\"#2a3f5f\",\"arrowhead\":0,\"arrowwidth\":1},\"geo\":{\"bgcolor\":\"white\",\"landcolor\":\"#E5ECF6\",\"subunitcolor\":\"white\",\"showland\":true,\"showlakes\":true,\"lakecolor\":\"white\"},\"title\":{\"x\":0.05},\"mapbox\":{\"style\":\"light\"}}},\"geo\":{\"domain\":{\"x\":[0.0,1.0],\"y\":[0.0,1.0]},\"projection\":{\"type\":\"natural earth\"},\"center\":{},\"lonaxis\":{\"range\":[-125,-55]},\"lataxis\":{\"range\":[24,50]},\"visible\":false,\"landcolor\":\"rgb(217, 217, 217)\",\"countrycolor\":\"Black\",\"showland\":true,\"showcountries\":true,\"countrywidth\":0.5},\"legend\":{\"title\":{\"text\":\"State\"},\"tracegroupgap\":0,\"itemsizing\":\"constant\"},\"title\":{\"text\":\"Map of Unhealthy Days by City for 2023\"}},                        {\"responsive\": true}                    ).then(function(){\n",
       "                            \n",
       "var gd = document.getElementById('6d80d950-6cda-4431-8cde-839ec78a85f1');\n",
       "var x = new MutationObserver(function (mutations, observer) {{\n",
       "        var display = window.getComputedStyle(gd).display;\n",
       "        if (!display || display === 'none') {{\n",
       "            console.log([gd, 'removed!']);\n",
       "            Plotly.purge(gd);\n",
       "            observer.disconnect();\n",
       "        }}\n",
       "}});\n",
       "\n",
       "// Listen for the removal of the full notebook cells\n",
       "var notebookContainer = gd.closest('#notebook-container');\n",
       "if (notebookContainer) {{\n",
       "    x.observe(notebookContainer, {childList: true});\n",
       "}}\n",
       "\n",
       "// Listen for the clearing of the current output cell\n",
       "var outputEl = gd.closest('.output');\n",
       "if (outputEl) {{\n",
       "    x.observe(outputEl, {childList: true});\n",
       "}}\n",
       "\n",
       "                        })                };                });            </script>        </div>"
      ]
     },
     "metadata": {},
     "output_type": "display_data"
    }
   ],
   "source": [
    "import plotly.graph_objects as go\n",
    "import plotly.express as px\n",
    "import pandas as pd\n",
    "\n",
    "# Load your DataFrame\n",
    "df = pd.read_csv('sample data (1).csv')\n",
    "\n",
    "#data management\n",
    "df['Text'] = df['Unhealthy Days'].astype(str)\n",
    "df['Text'] = df['Text'].str.replace('0', '')\n",
    "\n",
    "# Create the scatter_geo plot\n",
    "fig = px.scatter_geo(df,\n",
    "                     lat=\"Latitude\", \n",
    "                     lon=\"Longitude\", \n",
    "                     color=\"State\",  # Color points by state for visual differentiation\n",
    "                     hover_name=\"CBSA Name\",  # Show the city name when hovering over points\n",
    "                     size=\"Good Days\",  # Use 'Good Days' for the size of the markers\n",
    "                     projection=\"natural earth\",\n",
    "                     hover_data={\n",
    "                         \"CBSA Name\": True, \n",
    "                         \"Year\": True, \n",
    "                         \"Days with AQI\": True, \n",
    "                         \"Good Days\": True, \n",
    "                         \"Moderate Days\": True, \n",
    "                         \"Unhealthy for Sensitive Groups Days\": True, \n",
    "                         \"Unhealthy Days\": True\n",
    "                     },\n",
    "                     title=\"Map of Unhealthy Days by City for 2023\")\n",
    "                     \n",
    "\n",
    "# Manually adjusting the view to focus on the USA\n",
    "fig.update_geos(\n",
    "    visible=False,  # Hides the default geography for more control\n",
    "    lonaxis_range=[-125, -55],  # Approx range for continental USA\n",
    "    lataxis_range=[24, 50],  # Approx range for continental USA\n",
    "    projection_type=\"natural earth\"\n",
    ")\n",
    "\n",
    "# Update layout with manual adjustments\n",
    "fig.update_layout(\n",
    "    geo=dict(\n",
    "        landcolor='rgb(217, 217, 217)',\n",
    "        countrycolor=\"Black\",\n",
    "        showland=True,\n",
    "        showcountries=True,\n",
    "        countrywidth=0.5\n",
    "    )\n",
    ")\n",
    "\n",
    "fig.show()"
   ]
  },
  {
   "cell_type": "code",
   "execution_count": null,
   "id": "89b237ed",
   "metadata": {},
   "outputs": [],
   "source": []
  }
 ],
 "metadata": {
  "kernelspec": {
   "display_name": "Python 3 (ipykernel)",
   "language": "python",
   "name": "python3"
  },
  "language_info": {
   "codemirror_mode": {
    "name": "ipython",
    "version": 3
   },
   "file_extension": ".py",
   "mimetype": "text/x-python",
   "name": "python",
   "nbconvert_exporter": "python",
   "pygments_lexer": "ipython3",
   "version": "3.11.5"
  }
 },
 "nbformat": 4,
 "nbformat_minor": 5
}
